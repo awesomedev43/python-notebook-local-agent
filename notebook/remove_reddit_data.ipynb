{
 "cells": [
  {
   "cell_type": "markdown",
   "metadata": {},
   "source": [
    "# Delete Reddit Data\n",
    "\n",
    "- Deletes all Reddit Data\n",
    "- Removes all posts\n",
    "\n",
    "---"
   ]
  },
  {
   "cell_type": "code",
   "execution_count": 1,
   "metadata": {},
   "outputs": [],
   "source": [
    "import praw\n",
    "import os\n",
    "from IPython.display import Markdown, display\n",
    "\n",
    "reddit = praw.Reddit(\n",
    "    client_id=os.environ[\"REDDIT_API_CLIENT_ID\"],\n",
    "    client_secret=os.environ[\"REDDIT_API_SECRET\"],\n",
    "    password=os.environ[\"REDDIT_API_PASSWORD\"],\n",
    "    user_agent=os.environ[\"REDDIT_API_USER_AGENT\"],\n",
    "    username=os.environ[\"REDDIT_API_USER\"],\n",
    ")"
   ]
  },
  {
   "cell_type": "code",
   "execution_count": 2,
   "metadata": {},
   "outputs": [],
   "source": [
    "me = reddit.user.me()"
   ]
  },
  {
   "cell_type": "markdown",
   "metadata": {},
   "source": [
    "## Deleting Comments"
   ]
  },
  {
   "cell_type": "code",
   "execution_count": null,
   "metadata": {},
   "outputs": [],
   "source": [
    "for comment in me.comments.new(limit=None):\n",
    "    display(Markdown(f\"* Deleting `{comment.body.replace('\\n', ' ')}`\"))\n",
    "    comment.delete()"
   ]
  },
  {
   "cell_type": "markdown",
   "metadata": {},
   "source": [
    "## Deleting Posts"
   ]
  },
  {
   "cell_type": "code",
   "execution_count": null,
   "metadata": {},
   "outputs": [],
   "source": [
    "for submission in me.submissions.new(limit=None):\n",
    "    display(Markdown(f\"* Deleting `{submission.title}`\"))\n",
    "    submission.delete()"
   ]
  },
  {
   "cell_type": "code",
   "execution_count": 6,
   "metadata": {},
   "outputs": [],
   "source": [
    "from windows_toasts import WindowsToaster, Toast\n",
    "toaster = WindowsToaster('Python Notebook Local Agent')\n",
    "newToast = Toast()\n",
    "newToast.text_fields = ['Removed Reddit Data']\n",
    "toaster.show_toast(newToast)"
   ]
  }
 ],
 "metadata": {
  "kernelspec": {
   "display_name": "base",
   "language": "python",
   "name": "python3"
  },
  "language_info": {
   "codemirror_mode": {
    "name": "ipython",
    "version": 3
   },
   "file_extension": ".py",
   "mimetype": "text/x-python",
   "name": "python",
   "nbconvert_exporter": "python",
   "pygments_lexer": "ipython3",
   "version": "3.12.3"
  }
 },
 "nbformat": 4,
 "nbformat_minor": 2
}
